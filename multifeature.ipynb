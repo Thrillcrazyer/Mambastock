{
 "cells": [
  {
   "cell_type": "code",
   "execution_count": 1,
   "metadata": {},
   "outputs": [],
   "source": [
    "import os\n",
    "os.chdir('/workspace')\n",
    "import pandas as pd\n",
    "import matplotlib.pyplot as plt\n",
    "import numpy as np\n",
    "import warnings\n",
    "import torch\n",
    "from dataset.dataset_iter import data_formatting\n",
    "warnings.filterwarnings('ignore')\n",
    "from tqdm import tqdm\n",
    "\n",
    "device=\"cuda\"\n",
    "d_type=torch.float32"
   ]
  },
  {
   "cell_type": "code",
   "execution_count": 2,
   "metadata": {},
   "outputs": [
    {
     "data": {
      "text/plain": [
       "'/workspace'"
      ]
     },
     "execution_count": 2,
     "metadata": {},
     "output_type": "execute_result"
    }
   ],
   "source": [
    "import os\n",
    "\n",
    "# 현재 위치\n",
    "os.getcwd()"
   ]
  },
  {
   "cell_type": "markdown",
   "metadata": {},
   "source": [
    "# Modeling"
   ]
  },
  {
   "cell_type": "code",
   "execution_count": 3,
   "metadata": {},
   "outputs": [],
   "source": [
    "def Mamba2Model():\n",
    "    from model.mamba_stock import Mambamodeling\n",
    "    pretrained_path=\"/workspace/weight/Mamba2\"\n",
    "    model=Mambamodeling(\n",
    "            d_model=768,\n",
    "            d_inermediate=2048,\n",
    "            n_layer=8,\n",
    "            layer=\"Mamba2\",\n",
    "            pretrained_path=pretrained_path\n",
    "        ).to(device)\n",
    "    model.eval()\n",
    "    return model\n",
    "\n",
    "\n",
    "def Mamba1Model():\n",
    "    from model.mamba_stock import Mambamodeling\n",
    "    pretrained_path=\"/workspace/weight/Mamba1\"\n",
    "    model=Mambamodeling(\n",
    "            d_model=768,\n",
    "            d_inermediate=2048,\n",
    "            n_layer=8,\n",
    "            layer=\"Mamba1\",\n",
    "            pretrained_path=pretrained_path\n",
    "        ).to(device)\n",
    "    model.eval()\n",
    "    return model\n",
    "\n",
    "def TransformerModel():\n",
    "    from model.qwen_stock import QwenStock\n",
    "    from transformers import AutoConfig\n",
    "    \n",
    "    model_name = \"Qwen/Qwen2.5-Coder-0.5B-Instruct\"\n",
    "    \n",
    "    qwenconfig=AutoConfig.from_pretrained(model_name,\n",
    "                    intermediate_size= 2048,\n",
    "                    max_position_embeddings= 128,\n",
    "                    num_hidden_layers=8,\n",
    "                    vocab_size= 5\n",
    "                    )\n",
    "\n",
    "    model=QwenStock(qwenconfig).from_pretrained(\"/workspace/weight/QWEN\").to(device)\n",
    "    return model\n",
    "\n",
    "\n",
    "def xLSTM():\n",
    "    from model.xlstm_stock import xLSTMStockModeling\n",
    "    model=xLSTMStockModeling(pretrained_path=\"/workspace/weight/xLSTM2\").to(\"cuda\")\n",
    "    \n",
    "    return model\n",
    "    \n",
    "\n",
    "def predict(data,model,seq_length):\n",
    "    stock_predictions=[]\n",
    "    total= len(data)-seq_length\n",
    "    \n",
    "    for start_idx in tqdm(range(total), desc=\"Prediction\", ncols=80, ascii=True):\n",
    "        open=data.loc[data.index[start_idx], \"Open\"]\n",
    "        input=data_formatting(data,start_idx,1,seq_length,d_type)\n",
    "        with torch.no_grad():\n",
    "            pred=model(input)[0,-1,:]\n",
    "        price_pred=pred[3]*open/100\n",
    "        stock_predictions.append(price_pred)\n",
    "        if start_idx%200==0:\n",
    "            torch.cuda.empty_cache()\n",
    "    stock_predictions=torch.stack(stock_predictions, dim=0).cpu().numpy()\n",
    "    data[\"predict\"]=np.concatenate((np.zeros(seq_length), stock_predictions))\n",
    "    return data\n"
   ]
  },
  {
   "cell_type": "markdown",
   "metadata": {},
   "source": [
    "# Prediction"
   ]
  },
  {
   "cell_type": "code",
   "execution_count": null,
   "metadata": {},
   "outputs": [
    {
     "name": "stdout",
     "output_type": "stream",
     "text": [
      "{'verbose': True, 'with_cuda': True, 'extra_ldflags': ['-L/usr/local/cuda/lib', '-lcublas'], 'extra_cflags': ['-DSLSTM_HIDDEN_SIZE=768', '-DSLSTM_BATCH_SIZE=8', '-DSLSTM_NUM_HEADS=4', '-DSLSTM_NUM_STATES=4', '-DSLSTM_DTYPE_B=float', '-DSLSTM_DTYPE_R=__nv_bfloat16', '-DSLSTM_DTYPE_W=__nv_bfloat16', '-DSLSTM_DTYPE_G=__nv_bfloat16', '-DSLSTM_DTYPE_S=__nv_bfloat16', '-DSLSTM_DTYPE_A=float', '-DSLSTM_NUM_GATES=4', '-DSLSTM_SIMPLE_AGG=true', '-DSLSTM_GRADIENT_RECURRENT_CLIPVAL_VALID=false', '-DSLSTM_GRADIENT_RECURRENT_CLIPVAL=0.0', '-DSLSTM_FORWARD_CLIPVAL_VALID=false', '-DSLSTM_FORWARD_CLIPVAL=0.0', '-U__CUDA_NO_HALF_OPERATORS__', '-U__CUDA_NO_HALF_CONVERSIONS__', '-U__CUDA_NO_BFLOAT16_OPERATORS__', '-U__CUDA_NO_BFLOAT16_CONVERSIONS__', '-U__CUDA_NO_BFLOAT162_OPERATORS__', '-U__CUDA_NO_BFLOAT162_CONVERSIONS__'], 'extra_cuda_cflags': ['-Xptxas=\"-v\"', '-gencode', 'arch=compute_80,code=compute_80', '-res-usage', '--use_fast_math', '-O3', '-Xptxas -O3', '--extra-device-vectorization', '-DSLSTM_HIDDEN_SIZE=768', '-DSLSTM_BATCH_SIZE=8', '-DSLSTM_NUM_HEADS=4', '-DSLSTM_NUM_STATES=4', '-DSLSTM_DTYPE_B=float', '-DSLSTM_DTYPE_R=__nv_bfloat16', '-DSLSTM_DTYPE_W=__nv_bfloat16', '-DSLSTM_DTYPE_G=__nv_bfloat16', '-DSLSTM_DTYPE_S=__nv_bfloat16', '-DSLSTM_DTYPE_A=float', '-DSLSTM_NUM_GATES=4', '-DSLSTM_SIMPLE_AGG=true', '-DSLSTM_GRADIENT_RECURRENT_CLIPVAL_VALID=false', '-DSLSTM_GRADIENT_RECURRENT_CLIPVAL=0.0', '-DSLSTM_FORWARD_CLIPVAL_VALID=false', '-DSLSTM_FORWARD_CLIPVAL=0.0', '-U__CUDA_NO_HALF_OPERATORS__', '-U__CUDA_NO_HALF_CONVERSIONS__', '-U__CUDA_NO_BFLOAT16_OPERATORS__', '-U__CUDA_NO_BFLOAT16_CONVERSIONS__', '-U__CUDA_NO_BFLOAT162_OPERATORS__', '-U__CUDA_NO_BFLOAT162_CONVERSIONS__']}\n"
     ]
    },
    {
     "name": "stderr",
     "output_type": "stream",
     "text": [
      "Using /root/.cache/torch_extensions/py311_cu124 as PyTorch extensions root...\n",
      "Detected CUDA files, patching ldflags\n",
      "Emitting ninja build file /root/.cache/torch_extensions/py311_cu124/slstm_HS768BS8NH4NS4DBfDRbDWbDGbDSbDAfNG4SA1GRCV0GRC0d0FCV0FC0d0/build.ninja...\n",
      "Building extension module slstm_HS768BS8NH4NS4DBfDRbDWbDGbDSbDAfNG4SA1GRCV0GRC0d0FCV0FC0d0...\n",
      "Allowing ninja to set a default number of workers... (overridable by setting the environment variable MAX_JOBS=N)\n",
      "Loading extension module slstm_HS768BS8NH4NS4DBfDRbDWbDGbDSbDAfNG4SA1GRCV0GRC0d0FCV0FC0d0...\n"
     ]
    },
    {
     "name": "stdout",
     "output_type": "stream",
     "text": [
      "ninja: no work to do.\n"
     ]
    },
    {
     "name": "stderr",
     "output_type": "stream",
     "text": [
      "Prediction: 100%|###########################| 4873/4873 [00:54<00:00, 89.81it/s]\n"
     ]
    },
    {
     "data": {
      "text/html": [
       "<div>\n",
       "<style scoped>\n",
       "    .dataframe tbody tr th:only-of-type {\n",
       "        vertical-align: middle;\n",
       "    }\n",
       "\n",
       "    .dataframe tbody tr th {\n",
       "        vertical-align: top;\n",
       "    }\n",
       "\n",
       "    .dataframe thead th {\n",
       "        text-align: right;\n",
       "    }\n",
       "</style>\n",
       "<table border=\"1\" class=\"dataframe\">\n",
       "  <thead>\n",
       "    <tr style=\"text-align: right;\">\n",
       "      <th></th>\n",
       "      <th>Open</th>\n",
       "      <th>High</th>\n",
       "      <th>Low</th>\n",
       "      <th>Close</th>\n",
       "      <th>Volume</th>\n",
       "      <th>predict</th>\n",
       "    </tr>\n",
       "  </thead>\n",
       "  <tbody>\n",
       "    <tr>\n",
       "      <th>2017-04-19 09:00:00</th>\n",
       "      <td>1.07160</td>\n",
       "      <td>1.07220</td>\n",
       "      <td>1.07083</td>\n",
       "      <td>1.07219</td>\n",
       "      <td>1413</td>\n",
       "      <td>0.000000</td>\n",
       "    </tr>\n",
       "    <tr>\n",
       "      <th>2017-04-19 10:00:00</th>\n",
       "      <td>1.07214</td>\n",
       "      <td>1.07296</td>\n",
       "      <td>1.07214</td>\n",
       "      <td>1.07260</td>\n",
       "      <td>1241</td>\n",
       "      <td>0.000000</td>\n",
       "    </tr>\n",
       "    <tr>\n",
       "      <th>2017-04-19 11:00:00</th>\n",
       "      <td>1.07256</td>\n",
       "      <td>1.07299</td>\n",
       "      <td>1.07170</td>\n",
       "      <td>1.07192</td>\n",
       "      <td>1025</td>\n",
       "      <td>0.000000</td>\n",
       "    </tr>\n",
       "    <tr>\n",
       "      <th>2017-04-19 12:00:00</th>\n",
       "      <td>1.07195</td>\n",
       "      <td>1.07280</td>\n",
       "      <td>1.07195</td>\n",
       "      <td>1.07202</td>\n",
       "      <td>1460</td>\n",
       "      <td>0.000000</td>\n",
       "    </tr>\n",
       "    <tr>\n",
       "      <th>2017-04-19 13:00:00</th>\n",
       "      <td>1.07200</td>\n",
       "      <td>1.07230</td>\n",
       "      <td>1.07045</td>\n",
       "      <td>1.07050</td>\n",
       "      <td>1554</td>\n",
       "      <td>0.000000</td>\n",
       "    </tr>\n",
       "    <tr>\n",
       "      <th>...</th>\n",
       "      <td>...</td>\n",
       "      <td>...</td>\n",
       "      <td>...</td>\n",
       "      <td>...</td>\n",
       "      <td>...</td>\n",
       "      <td>...</td>\n",
       "    </tr>\n",
       "    <tr>\n",
       "      <th>2018-02-07 11:00:00</th>\n",
       "      <td>1.23390</td>\n",
       "      <td>1.23548</td>\n",
       "      <td>1.23386</td>\n",
       "      <td>1.23501</td>\n",
       "      <td>2203</td>\n",
       "      <td>1.231171</td>\n",
       "    </tr>\n",
       "    <tr>\n",
       "      <th>2018-02-07 12:00:00</th>\n",
       "      <td>1.23501</td>\n",
       "      <td>1.23508</td>\n",
       "      <td>1.23342</td>\n",
       "      <td>1.23422</td>\n",
       "      <td>2325</td>\n",
       "      <td>1.234816</td>\n",
       "    </tr>\n",
       "    <tr>\n",
       "      <th>2018-02-07 13:00:00</th>\n",
       "      <td>1.23422</td>\n",
       "      <td>1.23459</td>\n",
       "      <td>1.23338</td>\n",
       "      <td>1.23372</td>\n",
       "      <td>2824</td>\n",
       "      <td>1.223001</td>\n",
       "    </tr>\n",
       "    <tr>\n",
       "      <th>2018-02-07 14:00:00</th>\n",
       "      <td>1.23374</td>\n",
       "      <td>1.23452</td>\n",
       "      <td>1.23238</td>\n",
       "      <td>1.23426</td>\n",
       "      <td>4065</td>\n",
       "      <td>1.225421</td>\n",
       "    </tr>\n",
       "    <tr>\n",
       "      <th>2018-02-07 15:00:00</th>\n",
       "      <td>1.23427</td>\n",
       "      <td>1.23444</td>\n",
       "      <td>1.22904</td>\n",
       "      <td>1.22904</td>\n",
       "      <td>6143</td>\n",
       "      <td>1.228713</td>\n",
       "    </tr>\n",
       "  </tbody>\n",
       "</table>\n",
       "<p>5000 rows × 6 columns</p>\n",
       "</div>"
      ],
      "text/plain": [
       "                        Open     High      Low    Close  Volume   predict\n",
       "2017-04-19 09:00:00  1.07160  1.07220  1.07083  1.07219    1413  0.000000\n",
       "2017-04-19 10:00:00  1.07214  1.07296  1.07214  1.07260    1241  0.000000\n",
       "2017-04-19 11:00:00  1.07256  1.07299  1.07170  1.07192    1025  0.000000\n",
       "2017-04-19 12:00:00  1.07195  1.07280  1.07195  1.07202    1460  0.000000\n",
       "2017-04-19 13:00:00  1.07200  1.07230  1.07045  1.07050    1554  0.000000\n",
       "...                      ...      ...      ...      ...     ...       ...\n",
       "2018-02-07 11:00:00  1.23390  1.23548  1.23386  1.23501    2203  1.231171\n",
       "2018-02-07 12:00:00  1.23501  1.23508  1.23342  1.23422    2325  1.234816\n",
       "2018-02-07 13:00:00  1.23422  1.23459  1.23338  1.23372    2824  1.223001\n",
       "2018-02-07 14:00:00  1.23374  1.23452  1.23238  1.23426    4065  1.225421\n",
       "2018-02-07 15:00:00  1.23427  1.23444  1.22904  1.22904    6143  1.228713\n",
       "\n",
       "[5000 rows x 6 columns]"
      ]
     },
     "execution_count": 4,
     "metadata": {},
     "output_type": "execute_result"
    }
   ],
   "source": [
    "from backtesting.test import EURUSD,GOOG\n",
    "\n",
    "data_path=\"/workspace/data/HBARUSDT_hour.csv\"\n",
    "stock=pd.read_csv(data_path)\n",
    "#stock=EURUSD\n",
    "#data_path=\"/workspace/data/BTCUSDT_15min.csv\"\n",
    "#df=pd.read_csv(data_path)\n",
    "#filter_date = '2024-12-01'  # 원하는 날짜를 입력하세요\n",
    "#stock = df[pd.to_datetime(df['date']) > pd.to_datetime(filter_date)]\n",
    "\n",
    "\n",
    "#model=TransformerModel()\n",
    "#model=Mamba1Model()\n",
    "model=xLSTM()\n",
    "predict(stock,model,127)"
   ]
  },
  {
   "cell_type": "code",
   "execution_count": null,
   "metadata": {},
   "outputs": [
    {
     "data": {
      "image/png": "[encoded data removed]",
      "text/plain": [
       "<Figure size 1500x1000 with 1 Axes>"
      ]
     },
     "metadata": {},
     "output_type": "display_data"
    }
   ],
   "source": [
    "# 데이터를 DataFrame으로 변환\n",
    "time= pd.to_datetime(stock['open_time'], unit='ms')\n",
    "stock[\"time\"]=time\n",
    "stock.set_index('time', inplace=True)\n",
    "time=stock.index\n",
    "# data2와 data1을 그래프로 그리기\n",
    "plt.figure(figsize=(15, 10))  # 그래프 크기 설정 (선택적)\n",
    "plt.plot(time, stock['Close'], label='real')\n",
    "plt.plot(time, stock[\"predict\"], label='predict')\n",
    "\n",
    "# 그래프에 레이블과 범례 추가\n",
    "plt.xlabel('Time')\n",
    "plt.ylabel('Price')\n",
    "plt.title('Real and Predict Over Time')\n",
    "plt.legend()\n",
    "\n",
    "# 그래프 표시\n",
    "plt.show()"
   ]
  },
  {
   "cell_type": "code",
   "execution_count": 8,
   "metadata": {},
   "outputs": [
    {
     "data": {
      "text/plain": [
       "Start                     2017-04-19 09:00:00\n",
       "End                       2018-02-07 15:00:00\n",
       "Duration                    294 days 06:00:00\n",
       "Exposure Time [%]                       28.86\n",
       "Equity Final [$]                  8816.427527\n",
       "Equity Peak [$]                  10000.842172\n",
       "Return [%]                         -11.835725\n",
       "Buy & Hold Return [%]               14.628937\n",
       "Return (Ann.) [%]                   -11.87996\n",
       "Volatility (Ann.) [%]                 2.37446\n",
       "Sharpe Ratio                              0.0\n",
       "Sortino Ratio                             0.0\n",
       "Calmar Ratio                              0.0\n",
       "Max. Drawdown [%]                  -11.846708\n",
       "Avg. Drawdown [%]                  -11.846708\n",
       "Max. Drawdown Duration      286 days 14:00:00\n",
       "Avg. Drawdown Duration      286 days 14:00:00\n",
       "# Trades                                  585\n",
       "Win Rate [%]                         39.65812\n",
       "Best Trade [%]                       0.642989\n",
       "Worst Trade [%]                     -0.791552\n",
       "Avg. Trade [%]                      -0.021532\n",
       "Max. Trade Duration           2 days 02:00:00\n",
       "Avg. Trade Duration           0 days 02:00:00\n",
       "Profit Factor                         0.55613\n",
       "Expectancy [%]                       -0.02147\n",
       "SQN                                 -4.629609\n",
       "_strategy                              System\n",
       "_equity_curve                             ...\n",
       "_trades                        Size  Entry...\n",
       "dtype: object"
      ]
     },
     "execution_count": 8,
     "metadata": {},
     "output_type": "execute_result"
    }
   ],
   "source": [
    "from backtesting import Strategy, Backtest\n",
    "from backtesting.lib import SignalStrategy\n",
    "\n",
    "class System(Strategy):\n",
    "    def init(self):\n",
    "        super().init()\n",
    "        \n",
    "    def next(self):\n",
    "        price = self.data.Close[-1]         \n",
    "        if (self.data.predict - price)/price > 0.001 and (self.data.predict - price)/price<0.2 and self.data.predict != 0:\n",
    "            if not self.position.is_long:\n",
    "                self.buy()      \n",
    "        else:\n",
    "            self.position.close()\n",
    "       \n",
    "            \n",
    "backtest = Backtest(stock, System,\n",
    "              cash=10000,\n",
    "              commission=0.0002,\n",
    "              exclusive_orders=True)\n",
    "\n",
    "\n",
    "output=backtest.run()\n",
    "#output.to_csv(\"/workspace/result/Mamba1_M.csv\")\n",
    "output"
   ]
  },
  {
   "cell_type": "code",
   "execution_count": 7,
   "metadata": {},
   "outputs": [
    {
     "ename": "ValueError",
     "evalue": "failed to validate DatetimeTickFormatter(id='p1046', ...).days: expected a value of type str, got ['%d %b', '%a %d'] of type list",
     "output_type": "error",
     "traceback": [
      "\u001b[0;31m---------------------------------------------------------------------------\u001b[0m",
      "\u001b[0;31mValueError\u001b[0m                                Traceback (most recent call last)",
      "Cell \u001b[0;32mIn[7], line 3\u001b[0m\n\u001b[1;32m      1\u001b[0m \u001b[38;5;28;01mfrom\u001b[39;00m \u001b[38;5;21;01mbokeh\u001b[39;00m\u001b[38;5;21;01m.\u001b[39;00m\u001b[38;5;21;01mplotting\u001b[39;00m \u001b[38;5;28;01mimport\u001b[39;00m figure, output_file, save\n\u001b[0;32m----> 3\u001b[0m plot\u001b[38;5;241m=\u001b[39m\u001b[43mbacktest\u001b[49m\u001b[38;5;241;43m.\u001b[39;49m\u001b[43mplot\u001b[49m\u001b[43m(\u001b[49m\u001b[43m)\u001b[49m\n\u001b[1;32m      4\u001b[0m save(plot)\n\u001b[1;32m      5\u001b[0m plot\n",
      "File \u001b[0;32m/opt/conda/lib/python3.11/site-packages/backtesting/backtesting.py:1592\u001b[0m, in \u001b[0;36mBacktest.plot\u001b[0;34m(self, results, filename, plot_width, plot_equity, plot_return, plot_pl, plot_volume, plot_drawdown, smooth_equity, relative_equity, superimpose, resample, reverse_indicators, show_legend, open_browser)\u001b[0m\n\u001b[1;32m   1589\u001b[0m         \u001b[38;5;28;01mraise\u001b[39;00m \u001b[38;5;167;01mRuntimeError\u001b[39;00m(\u001b[38;5;124m'\u001b[39m\u001b[38;5;124mFirst issue `backtest.run()` to obtain results.\u001b[39m\u001b[38;5;124m'\u001b[39m)\n\u001b[1;32m   1590\u001b[0m     results \u001b[38;5;241m=\u001b[39m \u001b[38;5;28mself\u001b[39m\u001b[38;5;241m.\u001b[39m_results\n\u001b[0;32m-> 1592\u001b[0m \u001b[38;5;28;01mreturn\u001b[39;00m \u001b[43mplot\u001b[49m\u001b[43m(\u001b[49m\n\u001b[1;32m   1593\u001b[0m \u001b[43m    \u001b[49m\u001b[43mresults\u001b[49m\u001b[38;5;241;43m=\u001b[39;49m\u001b[43mresults\u001b[49m\u001b[43m,\u001b[49m\n\u001b[1;32m   1594\u001b[0m \u001b[43m    \u001b[49m\u001b[43mdf\u001b[49m\u001b[38;5;241;43m=\u001b[39;49m\u001b[38;5;28;43mself\u001b[39;49m\u001b[38;5;241;43m.\u001b[39;49m\u001b[43m_data\u001b[49m\u001b[43m,\u001b[49m\n\u001b[1;32m   1595\u001b[0m \u001b[43m    \u001b[49m\u001b[43mindicators\u001b[49m\u001b[38;5;241;43m=\u001b[39;49m\u001b[43mresults\u001b[49m\u001b[38;5;241;43m.\u001b[39;49m\u001b[43m_strategy\u001b[49m\u001b[38;5;241;43m.\u001b[39;49m\u001b[43m_indicators\u001b[49m\u001b[43m,\u001b[49m\n\u001b[1;32m   1596\u001b[0m \u001b[43m    \u001b[49m\u001b[43mfilename\u001b[49m\u001b[38;5;241;43m=\u001b[39;49m\u001b[43mfilename\u001b[49m\u001b[43m,\u001b[49m\n\u001b[1;32m   1597\u001b[0m \u001b[43m    \u001b[49m\u001b[43mplot_width\u001b[49m\u001b[38;5;241;43m=\u001b[39;49m\u001b[43mplot_width\u001b[49m\u001b[43m,\u001b[49m\n\u001b[1;32m   1598\u001b[0m \u001b[43m    \u001b[49m\u001b[43mplot_equity\u001b[49m\u001b[38;5;241;43m=\u001b[39;49m\u001b[43mplot_equity\u001b[49m\u001b[43m,\u001b[49m\n\u001b[1;32m   1599\u001b[0m \u001b[43m    \u001b[49m\u001b[43mplot_return\u001b[49m\u001b[38;5;241;43m=\u001b[39;49m\u001b[43mplot_return\u001b[49m\u001b[43m,\u001b[49m\n\u001b[1;32m   1600\u001b[0m \u001b[43m    \u001b[49m\u001b[43mplot_pl\u001b[49m\u001b[38;5;241;43m=\u001b[39;49m\u001b[43mplot_pl\u001b[49m\u001b[43m,\u001b[49m\n\u001b[1;32m   1601\u001b[0m \u001b[43m    \u001b[49m\u001b[43mplot_volume\u001b[49m\u001b[38;5;241;43m=\u001b[39;49m\u001b[43mplot_volume\u001b[49m\u001b[43m,\u001b[49m\n\u001b[1;32m   1602\u001b[0m \u001b[43m    \u001b[49m\u001b[43mplot_drawdown\u001b[49m\u001b[38;5;241;43m=\u001b[39;49m\u001b[43mplot_drawdown\u001b[49m\u001b[43m,\u001b[49m\n\u001b[1;32m   1603\u001b[0m \u001b[43m    \u001b[49m\u001b[43msmooth_equity\u001b[49m\u001b[38;5;241;43m=\u001b[39;49m\u001b[43msmooth_equity\u001b[49m\u001b[43m,\u001b[49m\n\u001b[1;32m   1604\u001b[0m \u001b[43m    \u001b[49m\u001b[43mrelative_equity\u001b[49m\u001b[38;5;241;43m=\u001b[39;49m\u001b[43mrelative_equity\u001b[49m\u001b[43m,\u001b[49m\n\u001b[1;32m   1605\u001b[0m \u001b[43m    \u001b[49m\u001b[43msuperimpose\u001b[49m\u001b[38;5;241;43m=\u001b[39;49m\u001b[43msuperimpose\u001b[49m\u001b[43m,\u001b[49m\n\u001b[1;32m   1606\u001b[0m \u001b[43m    \u001b[49m\u001b[43mresample\u001b[49m\u001b[38;5;241;43m=\u001b[39;49m\u001b[43mresample\u001b[49m\u001b[43m,\u001b[49m\n\u001b[1;32m   1607\u001b[0m \u001b[43m    \u001b[49m\u001b[43mreverse_indicators\u001b[49m\u001b[38;5;241;43m=\u001b[39;49m\u001b[43mreverse_indicators\u001b[49m\u001b[43m,\u001b[49m\n\u001b[1;32m   1608\u001b[0m \u001b[43m    \u001b[49m\u001b[43mshow_legend\u001b[49m\u001b[38;5;241;43m=\u001b[39;49m\u001b[43mshow_legend\u001b[49m\u001b[43m,\u001b[49m\n\u001b[1;32m   1609\u001b[0m \u001b[43m    \u001b[49m\u001b[43mopen_browser\u001b[49m\u001b[38;5;241;43m=\u001b[39;49m\u001b[43mopen_browser\u001b[49m\u001b[43m)\u001b[49m\n",
      "File \u001b[0;32m/opt/conda/lib/python3.11/site-packages/backtesting/_plotting.py:250\u001b[0m, in \u001b[0;36mplot\u001b[0;34m(results, df, indicators, filename, plot_width, plot_equity, plot_return, plot_pl, plot_volume, plot_drawdown, smooth_equity, relative_equity, superimpose, resample, reverse_indicators, show_legend, open_browser)\u001b[0m\n\u001b[1;32m    245\u001b[0m     trades_cmap \u001b[38;5;241m=\u001b[39m factor_cmap(\u001b[38;5;124m'\u001b[39m\u001b[38;5;124mreturns_positive\u001b[39m\u001b[38;5;124m'\u001b[39m, colors_darker, [\u001b[38;5;124m'\u001b[39m\u001b[38;5;124m0\u001b[39m\u001b[38;5;124m'\u001b[39m, \u001b[38;5;124m'\u001b[39m\u001b[38;5;124m1\u001b[39m\u001b[38;5;124m'\u001b[39m])\n\u001b[1;32m    247\u001b[0m     \u001b[38;5;28;01mif\u001b[39;00m is_datetime_index:\n\u001b[1;32m    248\u001b[0m         fig_ohlc\u001b[38;5;241m.\u001b[39mxaxis\u001b[38;5;241m.\u001b[39mformatter \u001b[38;5;241m=\u001b[39m CustomJSTickFormatter(\n\u001b[1;32m    249\u001b[0m             args\u001b[38;5;241m=\u001b[39m\u001b[38;5;28mdict\u001b[39m(axis\u001b[38;5;241m=\u001b[39mfig_ohlc\u001b[38;5;241m.\u001b[39mxaxis[\u001b[38;5;241m0\u001b[39m],\n\u001b[0;32m--> 250\u001b[0m                       formatter\u001b[38;5;241m=\u001b[39m\u001b[43mDatetimeTickFormatter\u001b[49m\u001b[43m(\u001b[49m\u001b[43mdays\u001b[49m\u001b[38;5;241;43m=\u001b[39;49m\u001b[43m[\u001b[49m\u001b[38;5;124;43m'\u001b[39;49m\u001b[38;5;132;43;01m%d\u001b[39;49;00m\u001b[38;5;124;43m \u001b[39;49m\u001b[38;5;124;43m%\u001b[39;49m\u001b[38;5;124;43mb\u001b[39;49m\u001b[38;5;124;43m'\u001b[39;49m\u001b[43m,\u001b[49m\u001b[43m \u001b[49m\u001b[38;5;124;43m'\u001b[39;49m\u001b[38;5;132;43;01m%a\u001b[39;49;00m\u001b[38;5;124;43m \u001b[39;49m\u001b[38;5;132;43;01m%d\u001b[39;49;00m\u001b[38;5;124;43m'\u001b[39;49m\u001b[43m]\u001b[49m\u001b[43m,\u001b[49m\n\u001b[1;32m    251\u001b[0m \u001b[43m                                                      \u001b[49m\u001b[43mmonths\u001b[49m\u001b[38;5;241;43m=\u001b[39;49m\u001b[43m[\u001b[49m\u001b[38;5;124;43m'\u001b[39;49m\u001b[38;5;124;43m%\u001b[39;49m\u001b[38;5;124;43mm/\u001b[39;49m\u001b[38;5;124;43m%\u001b[39;49m\u001b[38;5;124;43mY\u001b[39;49m\u001b[38;5;124;43m'\u001b[39;49m\u001b[43m,\u001b[49m\u001b[43m \u001b[49m\u001b[38;5;124;43m\"\u001b[39;49m\u001b[38;5;124;43m%\u001b[39;49m\u001b[38;5;124;43mb\u001b[39;49m\u001b[38;5;124;43m'\u001b[39;49m\u001b[38;5;124;43m%\u001b[39;49m\u001b[38;5;124;43my\u001b[39;49m\u001b[38;5;124;43m\"\u001b[39;49m\u001b[43m]\u001b[49m\u001b[43m)\u001b[49m,\n\u001b[1;32m    252\u001b[0m                       source\u001b[38;5;241m=\u001b[39msource),\n\u001b[1;32m    253\u001b[0m             code\u001b[38;5;241m=\u001b[39m\u001b[38;5;124m'''\u001b[39m\n\u001b[1;32m    254\u001b[0m \u001b[38;5;124mthis.labels = this.labels || formatter.doFormat(ticks\u001b[39m\n\u001b[1;32m    255\u001b[0m \u001b[38;5;124m                                                .map(i => source.data.datetime[i])\u001b[39m\n\u001b[1;32m    256\u001b[0m \u001b[38;5;124m                                                .filter(t => t !== undefined));\u001b[39m\n\u001b[1;32m    257\u001b[0m \u001b[38;5;124mreturn this.labels[index] || \u001b[39m\u001b[38;5;124m\"\u001b[39m\u001b[38;5;124m\"\u001b[39m\u001b[38;5;124m;\u001b[39m\n\u001b[1;32m    258\u001b[0m \u001b[38;5;124m        \u001b[39m\u001b[38;5;124m'''\u001b[39m)\n\u001b[1;32m    260\u001b[0m     NBSP \u001b[38;5;241m=\u001b[39m \u001b[38;5;124m'\u001b[39m\u001b[38;5;130;01m\\N{NBSP}\u001b[39;00m\u001b[38;5;124m'\u001b[39m \u001b[38;5;241m*\u001b[39m \u001b[38;5;241m4\u001b[39m\n\u001b[1;32m    261\u001b[0m     ohlc_extreme_values \u001b[38;5;241m=\u001b[39m df[[\u001b[38;5;124m'\u001b[39m\u001b[38;5;124mHigh\u001b[39m\u001b[38;5;124m'\u001b[39m, \u001b[38;5;124m'\u001b[39m\u001b[38;5;124mLow\u001b[39m\u001b[38;5;124m'\u001b[39m]]\u001b[38;5;241m.\u001b[39mcopy(deep\u001b[38;5;241m=\u001b[39m\u001b[38;5;28;01mFalse\u001b[39;00m)\n",
      "File \u001b[0;32m/opt/conda/lib/python3.11/site-packages/bokeh/models/formatters.py:593\u001b[0m, in \u001b[0;36mDatetimeTickFormatter.__init__\u001b[0;34m(self, *args, **kwargs)\u001b[0m\n\u001b[1;32m    592\u001b[0m \u001b[38;5;28;01mdef\u001b[39;00m \u001b[38;5;21m__init__\u001b[39m(\u001b[38;5;28mself\u001b[39m, \u001b[38;5;241m*\u001b[39margs, \u001b[38;5;241m*\u001b[39m\u001b[38;5;241m*\u001b[39mkwargs) \u001b[38;5;241m-\u001b[39m\u001b[38;5;241m>\u001b[39m \u001b[38;5;28;01mNone\u001b[39;00m:\n\u001b[0;32m--> 593\u001b[0m     \u001b[38;5;28;43msuper\u001b[39;49m\u001b[43m(\u001b[49m\u001b[43m)\u001b[49m\u001b[38;5;241;43m.\u001b[39;49m\u001b[38;5;21;43m__init__\u001b[39;49m\u001b[43m(\u001b[49m\u001b[38;5;241;43m*\u001b[39;49m\u001b[43margs\u001b[49m\u001b[43m,\u001b[49m\u001b[43m \u001b[49m\u001b[38;5;241;43m*\u001b[39;49m\u001b[38;5;241;43m*\u001b[39;49m\u001b[43mkwargs\u001b[49m\u001b[43m)\u001b[49m\n",
      "File \u001b[0;32m/opt/conda/lib/python3.11/site-packages/bokeh/models/formatters.py:93\u001b[0m, in \u001b[0;36mTickFormatter.__init__\u001b[0;34m(self, *args, **kwargs)\u001b[0m\n\u001b[1;32m     92\u001b[0m \u001b[38;5;28;01mdef\u001b[39;00m \u001b[38;5;21m__init__\u001b[39m(\u001b[38;5;28mself\u001b[39m, \u001b[38;5;241m*\u001b[39margs, \u001b[38;5;241m*\u001b[39m\u001b[38;5;241m*\u001b[39mkwargs) \u001b[38;5;241m-\u001b[39m\u001b[38;5;241m>\u001b[39m \u001b[38;5;28;01mNone\u001b[39;00m:\n\u001b[0;32m---> 93\u001b[0m     \u001b[38;5;28;43msuper\u001b[39;49m\u001b[43m(\u001b[49m\u001b[43m)\u001b[49m\u001b[38;5;241;43m.\u001b[39;49m\u001b[38;5;21;43m__init__\u001b[39;49m\u001b[43m(\u001b[49m\u001b[38;5;241;43m*\u001b[39;49m\u001b[43margs\u001b[49m\u001b[43m,\u001b[49m\u001b[43m \u001b[49m\u001b[38;5;241;43m*\u001b[39;49m\u001b[38;5;241;43m*\u001b[39;49m\u001b[43mkwargs\u001b[49m\u001b[43m)\u001b[49m\n",
      "File \u001b[0;32m/opt/conda/lib/python3.11/site-packages/bokeh/model/model.py:119\u001b[0m, in \u001b[0;36mModel.__init__\u001b[0;34m(self, *args, **kwargs)\u001b[0m\n\u001b[1;32m    116\u001b[0m \u001b[38;5;28;01mif\u001b[39;00m \u001b[38;5;124m\"\u001b[39m\u001b[38;5;124mid\u001b[39m\u001b[38;5;124m\"\u001b[39m \u001b[38;5;129;01min\u001b[39;00m kwargs:\n\u001b[1;32m    117\u001b[0m     \u001b[38;5;28;01mraise\u001b[39;00m \u001b[38;5;167;01mValueError\u001b[39;00m(\u001b[38;5;124m\"\u001b[39m\u001b[38;5;124minitializing \u001b[39m\u001b[38;5;124m'\u001b[39m\u001b[38;5;124mid\u001b[39m\u001b[38;5;124m'\u001b[39m\u001b[38;5;124m is not allowed\u001b[39m\u001b[38;5;124m\"\u001b[39m)\n\u001b[0;32m--> 119\u001b[0m \u001b[38;5;28;43msuper\u001b[39;49m\u001b[43m(\u001b[49m\u001b[43m)\u001b[49m\u001b[38;5;241;43m.\u001b[39;49m\u001b[38;5;21;43m__init__\u001b[39;49m\u001b[43m(\u001b[49m\u001b[38;5;241;43m*\u001b[39;49m\u001b[38;5;241;43m*\u001b[39;49m\u001b[43mkwargs\u001b[49m\u001b[43m)\u001b[49m\n\u001b[1;32m    120\u001b[0m default_theme\u001b[38;5;241m.\u001b[39mapply_to_model(\u001b[38;5;28mself\u001b[39m)\n",
      "File \u001b[0;32m/opt/conda/lib/python3.11/site-packages/bokeh/core/has_props.py:304\u001b[0m, in \u001b[0;36mHasProps.__init__\u001b[0;34m(self, **properties)\u001b[0m\n\u001b[1;32m    302\u001b[0m     \u001b[38;5;28;01mif\u001b[39;00m value \u001b[38;5;129;01mis\u001b[39;00m Undefined \u001b[38;5;129;01mor\u001b[39;00m value \u001b[38;5;129;01mis\u001b[39;00m Intrinsic:\n\u001b[1;32m    303\u001b[0m         \u001b[38;5;28;01mcontinue\u001b[39;00m\n\u001b[0;32m--> 304\u001b[0m     \u001b[38;5;28msetattr\u001b[39m(\u001b[38;5;28mself\u001b[39m, name, value)\n\u001b[1;32m    306\u001b[0m initialized \u001b[38;5;241m=\u001b[39m \u001b[38;5;28mset\u001b[39m(properties\u001b[38;5;241m.\u001b[39mkeys())\n\u001b[1;32m    307\u001b[0m \u001b[38;5;28;01mfor\u001b[39;00m name \u001b[38;5;129;01min\u001b[39;00m \u001b[38;5;28mself\u001b[39m\u001b[38;5;241m.\u001b[39mproperties(_with_props\u001b[38;5;241m=\u001b[39m\u001b[38;5;28;01mTrue\u001b[39;00m): \u001b[38;5;66;03m# avoid set[] for deterministic behavior\u001b[39;00m\n",
      "File \u001b[0;32m/opt/conda/lib/python3.11/site-packages/bokeh/core/has_props.py:336\u001b[0m, in \u001b[0;36mHasProps.__setattr__\u001b[0;34m(self, name, value)\u001b[0m\n\u001b[1;32m    334\u001b[0m properties \u001b[38;5;241m=\u001b[39m \u001b[38;5;28mself\u001b[39m\u001b[38;5;241m.\u001b[39mproperties(_with_props\u001b[38;5;241m=\u001b[39m\u001b[38;5;28;01mTrue\u001b[39;00m)\n\u001b[1;32m    335\u001b[0m \u001b[38;5;28;01mif\u001b[39;00m name \u001b[38;5;129;01min\u001b[39;00m properties:\n\u001b[0;32m--> 336\u001b[0m     \u001b[38;5;28;01mreturn\u001b[39;00m \u001b[38;5;28;43msuper\u001b[39;49m\u001b[43m(\u001b[49m\u001b[43m)\u001b[49m\u001b[38;5;241;43m.\u001b[39;49m\u001b[38;5;21;43m__setattr__\u001b[39;49m\u001b[43m(\u001b[49m\u001b[43mname\u001b[49m\u001b[43m,\u001b[49m\u001b[43m \u001b[49m\u001b[43mvalue\u001b[49m\u001b[43m)\u001b[49m\n\u001b[1;32m    338\u001b[0m descriptor \u001b[38;5;241m=\u001b[39m \u001b[38;5;28mgetattr\u001b[39m(\u001b[38;5;28mself\u001b[39m\u001b[38;5;241m.\u001b[39m\u001b[38;5;18m__class__\u001b[39m, name, \u001b[38;5;28;01mNone\u001b[39;00m)\n\u001b[1;32m    339\u001b[0m \u001b[38;5;28;01mif\u001b[39;00m \u001b[38;5;28misinstance\u001b[39m(descriptor, \u001b[38;5;28mproperty\u001b[39m): \u001b[38;5;66;03m# Python property\u001b[39;00m\n",
      "File \u001b[0;32m/opt/conda/lib/python3.11/site-packages/bokeh/core/property/descriptors.py:330\u001b[0m, in \u001b[0;36mPropertyDescriptor.__set__\u001b[0;34m(self, obj, value, setter)\u001b[0m\n\u001b[1;32m    327\u001b[0m     class_name \u001b[38;5;241m=\u001b[39m obj\u001b[38;5;241m.\u001b[39m\u001b[38;5;18m__class__\u001b[39m\u001b[38;5;241m.\u001b[39m\u001b[38;5;18m__name__\u001b[39m\n\u001b[1;32m    328\u001b[0m     \u001b[38;5;28;01mraise\u001b[39;00m \u001b[38;5;167;01mRuntimeError\u001b[39;00m(\u001b[38;5;124mf\u001b[39m\u001b[38;5;124m\"\u001b[39m\u001b[38;5;132;01m{\u001b[39;00mclass_name\u001b[38;5;132;01m}\u001b[39;00m\u001b[38;5;124m.\u001b[39m\u001b[38;5;132;01m{\u001b[39;00m\u001b[38;5;28mself\u001b[39m\u001b[38;5;241m.\u001b[39mname\u001b[38;5;132;01m}\u001b[39;00m\u001b[38;5;124m is a readonly property\u001b[39m\u001b[38;5;124m\"\u001b[39m)\n\u001b[0;32m--> 330\u001b[0m value \u001b[38;5;241m=\u001b[39m \u001b[38;5;28;43mself\u001b[39;49m\u001b[38;5;241;43m.\u001b[39;49m\u001b[43mproperty\u001b[49m\u001b[38;5;241;43m.\u001b[39;49m\u001b[43mprepare_value\u001b[49m\u001b[43m(\u001b[49m\u001b[43mobj\u001b[49m\u001b[43m,\u001b[49m\u001b[43m \u001b[49m\u001b[38;5;28;43mself\u001b[39;49m\u001b[38;5;241;43m.\u001b[39;49m\u001b[43mname\u001b[49m\u001b[43m,\u001b[49m\u001b[43m \u001b[49m\u001b[43mvalue\u001b[49m\u001b[43m)\u001b[49m\n\u001b[1;32m    331\u001b[0m old \u001b[38;5;241m=\u001b[39m \u001b[38;5;28mself\u001b[39m\u001b[38;5;241m.\u001b[39m_get(obj)\n\u001b[1;32m    332\u001b[0m \u001b[38;5;28mself\u001b[39m\u001b[38;5;241m.\u001b[39m_set(obj, old, value, setter\u001b[38;5;241m=\u001b[39msetter)\n",
      "File \u001b[0;32m/opt/conda/lib/python3.11/site-packages/bokeh/core/property/bases.py:363\u001b[0m, in \u001b[0;36mProperty.prepare_value\u001b[0;34m(self, owner, name, value, hint)\u001b[0m\n\u001b[1;32m    361\u001b[0m \u001b[38;5;28;01melse\u001b[39;00m:\n\u001b[1;32m    362\u001b[0m     obj_repr \u001b[38;5;241m=\u001b[39m owner \u001b[38;5;28;01mif\u001b[39;00m \u001b[38;5;28misinstance\u001b[39m(owner, HasProps) \u001b[38;5;28;01melse\u001b[39;00m owner\u001b[38;5;241m.\u001b[39m\u001b[38;5;18m__name__\u001b[39m\n\u001b[0;32m--> 363\u001b[0m     \u001b[38;5;28;01mraise\u001b[39;00m \u001b[38;5;167;01mValueError\u001b[39;00m(\u001b[38;5;124mf\u001b[39m\u001b[38;5;124m\"\u001b[39m\u001b[38;5;124mfailed to validate \u001b[39m\u001b[38;5;132;01m{\u001b[39;00mobj_repr\u001b[38;5;132;01m}\u001b[39;00m\u001b[38;5;124m.\u001b[39m\u001b[38;5;132;01m{\u001b[39;00mname\u001b[38;5;132;01m}\u001b[39;00m\u001b[38;5;124m: \u001b[39m\u001b[38;5;132;01m{\u001b[39;00merror\u001b[38;5;132;01m}\u001b[39;00m\u001b[38;5;124m\"\u001b[39m)\n\u001b[1;32m    365\u001b[0m \u001b[38;5;28;01mif\u001b[39;00m \u001b[38;5;28misinstance\u001b[39m(owner, HasProps):\n\u001b[1;32m    366\u001b[0m     obj \u001b[38;5;241m=\u001b[39m owner\n",
      "\u001b[0;31mValueError\u001b[0m: failed to validate DatetimeTickFormatter(id='p1046', ...).days: expected a value of type str, got ['%d %b', '%a %d'] of type list"
     ]
    }
   ],
   "source": [
    "from bokeh.plotting import figure, output_file, save\n",
    "\n",
    "plot=backtest.plot()\n",
    "save(plot)\n",
    "plot"
   ]
  },
  {
   "cell_type": "code",
   "execution_count": null,
   "metadata": {},
   "outputs": [],
   "source": []
  }
 ],
 "metadata": {
  "kernelspec": {
   "display_name": "base",
   "language": "python",
   "name": "python3"
  },
  "language_info": {
   "codemirror_mode": {
    "name": "ipython",
    "version": 3
   },
   "file_extension": ".py",
   "mimetype": "text/x-python",
   "name": "python",
   "nbconvert_exporter": "python",
   "pygments_lexer": "ipython3",
   "version": "3.11.10"
  }
 },
 "nbformat": 4,
 "nbformat_minor": 4
}

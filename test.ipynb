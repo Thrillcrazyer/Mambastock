{
 "cells": [
  {
   "cell_type": "code",
   "execution_count": 1,
   "metadata": {},
   "outputs": [],
   "source": [
    "import os\n",
    "os.chdir('/workspace')\n",
    "import pandas as pd\n",
    "import matplotlib.pyplot as plt\n",
    "import numpy as np\n",
    "import warnings\n",
    "import torch\n",
    "from dataset.dataset_iter import data_formatting\n",
    "warnings.filterwarnings('ignore')\n",
    "from tqdm import tqdm\n",
    "\n",
    "device=\"cuda\"\n",
    "d_type=torch.float32"
   ]
  },
  {
   "cell_type": "code",
   "execution_count": 2,
   "metadata": {},
   "outputs": [
    {
     "data": {
      "text/plain": [
       "'/workspace'"
      ]
     },
     "execution_count": 2,
     "metadata": {},
     "output_type": "execute_result"
    }
   ],
   "source": [
    "import os\n",
    "\n",
    "# 현재 위치\n",
    "os.getcwd()"
   ]
  },
  {
   "cell_type": "markdown",
   "metadata": {},
   "source": [
    "# Modeling"
   ]
  },
  {
   "cell_type": "code",
   "execution_count": 3,
   "metadata": {},
   "outputs": [],
   "source": [
    "def Mamba2Model():\n",
    "    from model.mamba_stock import Mambamodeling\n",
    "    pretrained_path=\"/workspace/weight/Mamba2\"\n",
    "    model=Mambamodeling(\n",
    "            d_model=768,\n",
    "            d_inermediate=2048,\n",
    "            n_layer=8,\n",
    "            layer=\"Mamba2\",\n",
    "            pretrained_path=pretrained_path\n",
    "        ).to(device)\n",
    "    model.eval()\n",
    "    return model\n",
    "\n",
    "\n",
    "def Mamba1Model():\n",
    "    from model.mamba_stock import Mambamodeling\n",
    "    pretrained_path=\"/workspace/weight/Mamba1\"\n",
    "    model=Mambamodeling(\n",
    "            d_model=768,\n",
    "            d_inermediate=2048,\n",
    "            n_layer=8,\n",
    "            layer=\"Mamba1\",\n",
    "            pretrained_path=pretrained_path\n",
    "        ).to(device)\n",
    "    model.eval()\n",
    "    return model\n",
    "\n",
    "def TransformerModel():\n",
    "    from model.qwen_stock import QwenStock\n",
    "    from transformers import AutoConfig\n",
    "    \n",
    "    model_name = \"Qwen/Qwen2.5-Coder-0.5B-Instruct\"\n",
    "    \n",
    "    qwenconfig=AutoConfig.from_pretrained(model_name,\n",
    "                    intermediate_size= 2048,\n",
    "                    max_position_embeddings= 128,\n",
    "                    num_hidden_layers=8,\n",
    "                    vocab_size= 5\n",
    "                    )\n",
    "\n",
    "    model=QwenStock(qwenconfig).from_pretrained(\"/workspace/weight/0000085000\").to(device)\n",
    "    return model\n",
    "\n",
    "def predict(data,model,seq_length):\n",
    "    stock_predictions=[]\n",
    "    total= len(data)-seq_length\n",
    "    \n",
    "    for start_idx in tqdm(range(total), desc=\"Prediction\", ncols=80, ascii=True):\n",
    "        open=data.loc[data.index[start_idx], \"Open\"]\n",
    "        input=data_formatting(data,start_idx,1,seq_length,d_type)\n",
    "        with torch.no_grad():\n",
    "            pred=model(input)[0,-1,:]\n",
    "        price_pred=pred[3]*open/100\n",
    "        stock_predictions.append(price_pred)\n",
    "        if start_idx%200==0:\n",
    "            torch.cuda.empty_cache()\n",
    "    stock_predictions=torch.stack(stock_predictions, dim=0).cpu().numpy()\n",
    "    data[\"predict\"]=np.concatenate((np.zeros(seq_length), stock_predictions))\n",
    "    return data\n"
   ]
  },
  {
   "cell_type": "markdown",
   "metadata": {},
   "source": [
    "# Prediction"
   ]
  },
  {
   "cell_type": "code",
   "execution_count": null,
   "metadata": {},
   "outputs": [
    {
     "name": "stderr",
     "output_type": "stream",
     "text": [
      "Prediction:  22%|#####7                    | 1084/4873 [00:07<00:25, 147.57it/s]"
     ]
    }
   ],
   "source": [
    "from backtesting.test import EURUSD,GOOG\n",
    "\n",
    "data_path=\"/workspace/data/HBARUSDT_hour.csv\"\n",
    "stock=pd.read_csv(data_path)\n",
    "stock=EURUSD\n",
    "\n",
    "model=TransformerModel()\n",
    "predict(stock,model,127)"
   ]
  },
  {
   "cell_type": "code",
   "execution_count": null,
   "metadata": {},
   "outputs": [],
   "source": [
    "# 데이터를 DataFrame으로 변환\n",
    "#time= pd.to_datetime(stock['open_time'], unit='ms')\n",
    "time=stock.index\n",
    "# data2와 data1을 그래프로 그리기\n",
    "plt.figure(figsize=(15, 10))  # 그래프 크기 설정 (선택적)\n",
    "plt.plot(time, stock['Close'], label='real')\n",
    "plt.plot(time, stock[\"predict\"], label='predict')\n",
    "\n",
    "# 그래프에 레이블과 범례 추가\n",
    "plt.xlabel('Time')\n",
    "plt.ylabel('Price')\n",
    "plt.title('Real and Predict Over Time')\n",
    "plt.legend()\n",
    "\n",
    "# 그래프 표시\n",
    "plt.show()"
   ]
  },
  {
   "cell_type": "code",
   "execution_count": null,
   "metadata": {},
   "outputs": [],
   "source": [
    "from backtesting import Strategy, Backtest\n",
    "from backtesting.lib import SignalStrategy\n",
    "\n",
    "class System(Strategy):\n",
    "    def init(self):\n",
    "        super().init()\n",
    "        \n",
    "    def next(self):\n",
    "        price = self.data.Close[-1]\n",
    "        \n",
    "        if (self.data.predict - price)/price > 0 and (self.data.predict - price)/price<0.1 and self.data.predict != 0:\n",
    "            if not self.position.is_long:\n",
    "                self.buy()\n",
    "        else:\n",
    "            self.position.close()\n",
    "       \n",
    "            \n",
    "backtest = Backtest(stock, System,\n",
    "              cash=10000,\n",
    "              #commission=0.0002,\n",
    "              exclusive_orders=True)\n",
    "\n",
    "backtest.run()"
   ]
  },
  {
   "cell_type": "code",
   "execution_count": null,
   "metadata": {},
   "outputs": [],
   "source": [
    "backtest.plot()"
   ]
  },
  {
   "cell_type": "code",
   "execution_count": null,
   "metadata": {},
   "outputs": [],
   "source": []
  }
 ],
 "metadata": {
  "kernelspec": {
   "display_name": "Python 3",
   "language": "python",
   "name": "python3"
  },
  "language_info": {
   "codemirror_mode": {
    "name": "ipython",
    "version": 3
   },
   "file_extension": ".py",
   "mimetype": "text/x-python",
   "name": "python",
   "nbconvert_exporter": "python",
   "pygments_lexer": "ipython3",
   "version": "3.10.12"
  }
 },
 "nbformat": 4,
 "nbformat_minor": 4
}

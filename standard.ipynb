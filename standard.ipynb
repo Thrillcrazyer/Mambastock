{
 "cells": [
  {
   "cell_type": "code",
   "execution_count": 1,
   "metadata": {},
   "outputs": [
    {
     "data": {
      "text/plain": [
       "'/workspace'"
      ]
     },
     "execution_count": 1,
     "metadata": {},
     "output_type": "execute_result"
    }
   ],
   "source": [
    "import os\n",
    "os.chdir('/workspace')\n",
    "import pandas as pd\n",
    "import matplotlib.pyplot as plt\n",
    "\n",
    "import os\n",
    "\n",
    "# 현재 위치\n",
    "os.getcwd()"
   ]
  },
  {
   "cell_type": "code",
   "execution_count": 2,
   "metadata": {},
   "outputs": [
    {
     "name": "stderr",
     "output_type": "stream",
     "text": [
      "/opt/conda/lib/python3.11/site-packages/backtesting/test/__init__.py:8: FutureWarning: The argument 'infer_datetime_format' is deprecated and will be removed in a future version. A strict version of it is now the default, see https://pandas.pydata.org/pdeps/0004-consistent-to-datetime-parsing.html. You can safely remove this argument.\n",
      "  return pd.read_csv(join(dirname(__file__), filename),\n",
      "/opt/conda/lib/python3.11/site-packages/backtesting/test/__init__.py:8: FutureWarning: The argument 'infer_datetime_format' is deprecated and will be removed in a future version. A strict version of it is now the default, see https://pandas.pydata.org/pdeps/0004-consistent-to-datetime-parsing.html. You can safely remove this argument.\n",
      "  return pd.read_csv(join(dirname(__file__), filename),\n"
     ]
    }
   ],
   "source": [
    "from backtesting.test import EURUSD,GOOG\n",
    "\n",
    "data_path=\"/workspace/data/HBARUSDT_hour.csv\"\n",
    "stock=pd.read_csv(data_path)\n",
    "time= pd.to_datetime(stock['open_time'], unit='ms')\n",
    "stock[\"time\"]=time\n",
    "stock.set_index('time', inplace=True)\n"
   ]
  },
  {
   "cell_type": "code",
   "execution_count": 11,
   "metadata": {},
   "outputs": [
    {
     "data": {
      "text/plain": [
       "Start                     2019-09-29 04:00:00\n",
       "End                       2024-12-25 13:00:00\n",
       "Duration                   1914 days 09:00:00\n",
       "Exposure Time [%]                   49.679808\n",
       "Equity Final [$]                  3713.783104\n",
       "Equity Peak [$]                  35918.165281\n",
       "Return [%]                         -62.862169\n",
       "Buy & Hold Return [%]              687.038909\n",
       "Return (Ann.) [%]                  -17.204486\n",
       "Volatility (Ann.) [%]              130.096795\n",
       "Sharpe Ratio                              0.0\n",
       "Sortino Ratio                             0.0\n",
       "Calmar Ratio                              0.0\n",
       "Max. Drawdown [%]                  -97.139776\n",
       "Avg. Drawdown [%]                  -20.001853\n",
       "Max. Drawdown Duration     1777 days 21:00:00\n",
       "Avg. Drawdown Duration      173 days 15:00:00\n",
       "# Trades                                 1248\n",
       "Win Rate [%]                        14.903846\n",
       "Best Trade [%]                     165.233736\n",
       "Worst Trade [%]                    -13.913998\n",
       "Avg. Trade [%]                      -0.079341\n",
       "Max. Trade Duration          12 days 05:00:00\n",
       "Avg. Trade Duration           0 days 18:00:00\n",
       "Profit Factor                        1.131925\n",
       "Expectancy [%]                       0.146171\n",
       "SQN                                 -0.287097\n",
       "_strategy                 MovingAverageStr...\n",
       "_equity_curve                             ...\n",
       "_trades                           Size  En...\n",
       "dtype: object"
      ]
     },
     "execution_count": 11,
     "metadata": {},
     "output_type": "execute_result"
    }
   ],
   "source": [
    "from backtesting import Strategy, Backtest\n",
    "from backtesting.lib import SignalStrategy, TrailingStrategy\n",
    "from backtesting.lib import crossover\n",
    "from backtesting.test import SMA\n",
    "\n",
    "\n",
    "class MovingAverageStrategy(Strategy):\n",
    "    short_window = 100  # 10-day moving average\n",
    "\n",
    "    def init(self):\n",
    "        # Calculate 10-day Simple Moving Average (SMA)\n",
    "        self.sma = self.I(SMA, self.data.Close, self.short_window)\n",
    "\n",
    "    def next(self):\n",
    "        # If price crosses above SMA, buy\n",
    "        if crossover(self.data.Close, self.sma):\n",
    "            self.buy()\n",
    "        # If price crosses below SMA, sell\n",
    "        elif crossover(self.sma, self.data.Close):\n",
    "            self.position.close()\n",
    "            \n",
    "            \n",
    "\n",
    "backtest = Backtest(stock, MovingAverageStrategy,\n",
    "              cash=10000,\n",
    "              commission=0.0002,\n",
    "              exclusive_orders=True)\n",
    "\n",
    "output=backtest.run()\n",
    "#output.to_csv(\"/workspace/result/Mamba2_S.csv\")\n",
    "output"
   ]
  },
  {
   "cell_type": "code",
   "execution_count": 12,
   "metadata": {},
   "outputs": [
    {
     "data": {
      "text/plain": [
       "Start                     2019-09-29 04:00:00\n",
       "End                       2024-12-25 13:00:00\n",
       "Duration                   1914 days 09:00:00\n",
       "Exposure Time [%]                   35.933348\n",
       "Equity Final [$]                  2630.883896\n",
       "Equity Peak [$]                  12722.772327\n",
       "Return [%]                         -73.691161\n",
       "Buy & Hold Return [%]              687.038909\n",
       "Return (Ann.) [%]                  -22.469769\n",
       "Volatility (Ann.) [%]               55.136315\n",
       "Sharpe Ratio                              0.0\n",
       "Sortino Ratio                             0.0\n",
       "Calmar Ratio                              0.0\n",
       "Max. Drawdown [%]                  -94.324337\n",
       "Avg. Drawdown [%]                  -28.423627\n",
       "Max. Drawdown Duration     1778 days 23:00:00\n",
       "Avg. Drawdown Duration      382 days 12:00:00\n",
       "# Trades                                 1050\n",
       "Win Rate [%]                        39.428571\n",
       "Best Trade [%]                       64.36214\n",
       "Worst Trade [%]                    -17.789186\n",
       "Avg. Trade [%]                      -0.138347\n",
       "Max. Trade Duration           3 days 00:00:00\n",
       "Avg. Trade Duration           0 days 15:00:00\n",
       "Profit Factor                         0.97198\n",
       "Expectancy [%]                      -0.040415\n",
       "SQN                                  -0.99517\n",
       "_strategy                            SmaCross\n",
       "_equity_curve                             ...\n",
       "_trades                           Size  En...\n",
       "dtype: object"
      ]
     },
     "execution_count": 12,
     "metadata": {},
     "output_type": "execute_result"
    }
   ],
   "source": [
    "class SmaCross(SignalStrategy,\n",
    "               TrailingStrategy):\n",
    "    n1 = 10\n",
    "    n2 = 25\n",
    "    \n",
    "    def init(self):\n",
    "        # In init() and in next() it is important to call the\n",
    "        # super method to properly initialize the parent classes\n",
    "        super().init()\n",
    "        \n",
    "        # Precompute the two moving averages\n",
    "        sma1 = self.I(SMA, self.data.Close, self.n1)\n",
    "        sma2 = self.I(SMA, self.data.Close, self.n2)\n",
    "        \n",
    "        # Where sma1 crosses sma2 upwards. Diff gives us [-1,0, *1*]\n",
    "        signal = (pd.Series(sma1) > sma2).astype(int).diff().fillna(0)\n",
    "        signal = signal.replace(-1, 0)  # Upwards/long only\n",
    "        \n",
    "        # Use 95% of available liquidity (at the time) on each order.\n",
    "        # (Leaving a value of 1. would instead buy a single share.)\n",
    "        entry_size = signal * .95\n",
    "                \n",
    "        # Set order entry sizes using the method provided by \n",
    "        # `SignalStrategy`. See the docs.\n",
    "        self.set_signal(entry_size=entry_size)\n",
    "        \n",
    "        # Set trailing stop-loss to 2x ATR using\n",
    "        # the method provided by `TrailingStrategy`\n",
    "        self.set_trailing_sl(2)\n",
    "        \n",
    "backtest = Backtest(stock, SmaCross,\n",
    "              cash=10000,\n",
    "              commission=0.0002,\n",
    "              exclusive_orders=True)\n",
    "\n",
    "output=backtest.run()\n",
    "#output.to_csv(\"/workspace/result/Mamba2_S.csv\")\n",
    "output   "
   ]
  }
 ],
 "metadata": {
  "kernelspec": {
   "display_name": "base",
   "language": "python",
   "name": "python3"
  },
  "language_info": {
   "codemirror_mode": {
    "name": "ipython",
    "version": 3
   },
   "file_extension": ".py",
   "mimetype": "text/x-python",
   "name": "python",
   "nbconvert_exporter": "python",
   "pygments_lexer": "ipython3",
   "version": "3.11.10"
  }
 },
 "nbformat": 4,
 "nbformat_minor": 2
}
